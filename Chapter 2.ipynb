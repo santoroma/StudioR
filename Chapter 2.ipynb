{
 "cells": [
  {
   "cell_type": "code",
   "execution_count": null,
   "id": "5ffe84c4",
   "metadata": {},
   "outputs": [],
   "source": [
    "#### Given the following data frame, how do I create a new column called “3” \n",
    "#### that contains the sum of 1 and 2? You may only use $, not [[. \n",
    "#### What makes 1, 2, and 3 challenging as variable names?\n",
    "df <- data.frame(runif(3), runif(3))\n",
    "names(df) <- c(1, 2)\n",
    "\n",
    "\n",
    "#### my answer\n",
    "df[3]<-df[1]+df[2]\n",
    "names(df[3])<-3\n",
    "print(df)"
   ]
  },
  {
   "cell_type": "code",
   "execution_count": null,
   "id": "5d0cc2e8",
   "metadata": {},
   "outputs": [],
   "source": [
    "#### In the following code, how much memory does y occupy?\n",
    "x <- runif(1e6)\n",
    "y <- list(x, x, x)\n",
    "\n",
    "\n",
    "### #my answer\n",
    "object.size(y)"
   ]
  },
  {
   "cell_type": "code",
   "execution_count": null,
   "id": "f31f45d2",
   "metadata": {},
   "outputs": [],
   "source": [
    "#### On which line does a get copied in the following example?\n",
    "a <- c(1, 5, 3, 2)\n",
    "b <- a\n",
    "b[[1]] <- 10\n",
    "\n",
    "\n",
    "#### my answer\n",
    "#### at the last. i used lobstr::obj_addr to check"
   ]
  },
  {
   "cell_type": "code",
   "execution_count": 7,
   "id": "48b8d601",
   "metadata": {},
   "outputs": [
    {
     "data": {
      "text/html": [
       "TRUE"
      ],
      "text/latex": [
       "TRUE"
      ],
      "text/markdown": [
       "TRUE"
      ],
      "text/plain": [
       "[1] TRUE"
      ]
     },
     "metadata": {},
     "output_type": "display_data"
    },
    {
     "data": {
      "text/html": [
       "TRUE"
      ],
      "text/latex": [
       "TRUE"
      ],
      "text/markdown": [
       "TRUE"
      ],
      "text/plain": [
       "[1] TRUE"
      ]
     },
     "metadata": {},
     "output_type": "display_data"
    }
   ],
   "source": [
    "#### Explain the relationship between a, b, c and d in the following code:\n",
    "a <- 1:10\n",
    "b <- a\n",
    "c <- b\n",
    "d <- 1:10\n",
    "\n",
    "\n",
    "####my answer\n",
    "#### a,b,c point to the same address. \n",
    "lobstr::obj_addr(a)==lobstr::obj_addr(b) & lobstr::obj_addr(a)==lobstr::obj_addr(c)\n",
    "lobstr::obj_addr(d)!=lobstr::obj_addr(a)"
   ]
  },
  {
   "cell_type": "code",
   "execution_count": 8,
   "id": "ffaca585",
   "metadata": {},
   "outputs": [
    {
     "data": {
      "text/html": [
       "<pre class=language-r><code>function (x, ...) \n",
       "UseMethod(\"mean\")</code></pre>"
      ],
      "text/latex": [
       "\\begin{minted}{r}\n",
       "function (x, ...) \n",
       "UseMethod(\"mean\")\n",
       "\\end{minted}"
      ],
      "text/markdown": [
       "```r\n",
       "function (x, ...) \n",
       "UseMethod(\"mean\")\n",
       "```"
      ],
      "text/plain": [
       "function (x, ...) \n",
       "UseMethod(\"mean\")\n",
       "<bytecode: 0x55c73f2c4328>\n",
       "<environment: namespace:base>"
      ]
     },
     "metadata": {},
     "output_type": "display_data"
    },
    {
     "data": {
      "text/html": [
       "<pre class=language-r><code>function (x, ...) \n",
       "UseMethod(\"mean\")</code></pre>"
      ],
      "text/latex": [
       "\\begin{minted}{r}\n",
       "function (x, ...) \n",
       "UseMethod(\"mean\")\n",
       "\\end{minted}"
      ],
      "text/markdown": [
       "```r\n",
       "function (x, ...) \n",
       "UseMethod(\"mean\")\n",
       "```"
      ],
      "text/plain": [
       "function (x, ...) \n",
       "UseMethod(\"mean\")\n",
       "<bytecode: 0x55c73f2c4328>\n",
       "<environment: namespace:base>"
      ]
     },
     "metadata": {},
     "output_type": "display_data"
    },
    {
     "data": {
      "text/html": [
       "<pre class=language-r><code>function (x, ...) \n",
       "UseMethod(\"mean\")</code></pre>"
      ],
      "text/latex": [
       "\\begin{minted}{r}\n",
       "function (x, ...) \n",
       "UseMethod(\"mean\")\n",
       "\\end{minted}"
      ],
      "text/markdown": [
       "```r\n",
       "function (x, ...) \n",
       "UseMethod(\"mean\")\n",
       "```"
      ],
      "text/plain": [
       "function (x, ...) \n",
       "UseMethod(\"mean\")\n",
       "<bytecode: 0x55c73f2c4328>\n",
       "<environment: namespace:base>"
      ]
     },
     "metadata": {},
     "output_type": "display_data"
    },
    {
     "data": {
      "text/html": [
       "<pre class=language-r><code>function (x, ...) \n",
       "UseMethod(\"mean\")</code></pre>"
      ],
      "text/latex": [
       "\\begin{minted}{r}\n",
       "function (x, ...) \n",
       "UseMethod(\"mean\")\n",
       "\\end{minted}"
      ],
      "text/markdown": [
       "```r\n",
       "function (x, ...) \n",
       "UseMethod(\"mean\")\n",
       "```"
      ],
      "text/plain": [
       "function (x, ...) \n",
       "UseMethod(\"mean\")\n",
       "<bytecode: 0x55c73f2c4328>\n",
       "<environment: namespace:base>"
      ]
     },
     "metadata": {},
     "output_type": "display_data"
    },
    {
     "data": {
      "text/html": [
       "<pre class=language-r><code>function (x, ...) \n",
       "UseMethod(\"mean\")</code></pre>"
      ],
      "text/latex": [
       "\\begin{minted}{r}\n",
       "function (x, ...) \n",
       "UseMethod(\"mean\")\n",
       "\\end{minted}"
      ],
      "text/markdown": [
       "```r\n",
       "function (x, ...) \n",
       "UseMethod(\"mean\")\n",
       "```"
      ],
      "text/plain": [
       "function (x, ...) \n",
       "UseMethod(\"mean\")\n",
       "<bytecode: 0x55c73f2c4328>\n",
       "<environment: namespace:base>"
      ]
     },
     "metadata": {},
     "output_type": "display_data"
    },
    {
     "data": {
      "text/html": [
       "TRUE"
      ],
      "text/latex": [
       "TRUE"
      ],
      "text/markdown": [
       "TRUE"
      ],
      "text/plain": [
       "[1] TRUE"
      ]
     },
     "metadata": {},
     "output_type": "display_data"
    }
   ],
   "source": [
    "####The following code accesses the mean function in multiple ways. \n",
    "####Do they all point to the same underlying function object? Verify this with lobstr::obj_addr().\n",
    "mean\n",
    "base::mean\n",
    "get(\"mean\")\n",
    "evalq(mean)\n",
    "match.fun(\"mean\")\n",
    "\n",
    "\n",
    "####my answer\n",
    "lobstr::obj_addr(mean)==lobstr::obj_addr(base::mean) & lobstr::obj_addr(mean)==lobstr::obj_addr(get(\"mean\")) &\n",
    "lobstr::obj_addr(mean)==lobstr::obj_addr(evalq(mean)) & lobstr::obj_addr(mean)==lobstr::obj_addr(match.fun(\"mean\")) "
   ]
  },
  {
   "cell_type": "code",
   "execution_count": 9,
   "id": "3cecf6ff",
   "metadata": {},
   "outputs": [],
   "source": [
    "#### By default, base R data import functions, like read.csv(), will automatically convert non-syntactic names \n",
    "#### to syntactic ones. Why might this be problematic? What option allows you to suppress this behaviour?\n",
    "\n",
    "\n",
    "#### my answer. cit [stackoverflow]\n",
    "?check.names\n",
    "#### check.names: logical.  If ‘TRUE’ then the names of the variables in the\n",
    "#### data frame are checked to ensure that they are syntactically valid variable names. "
   ]
  },
  {
   "cell_type": "code",
   "execution_count": 10,
   "id": "1b97d967",
   "metadata": {},
   "outputs": [],
   "source": [
    "#### What rules does make.names() use to convert non-syntactic names into syntactic ones?\n",
    "\n",
    "\n",
    "#### my answer. cit [stackoverflow]\n",
    "#### The character \"X\" is prepended if necessary. All invalid characters are translated to \".\". \n",
    "#### A missing value is translated to \"NA\". Names which match R keywords have a dot appended to them.\n",
    "#### Duplicated values are altered by make.unique\n",
    "?make.names\n"
   ]
  },
  {
   "cell_type": "code",
   "execution_count": 13,
   "id": "a8132a90",
   "metadata": {},
   "outputs": [
    {
     "data": {
      "text/html": [
       "'X1.23'"
      ],
      "text/latex": [
       "'X1.23'"
      ],
      "text/markdown": [
       "'X1.23'"
      ],
      "text/plain": [
       "[1] \"X1.23\""
      ]
     },
     "metadata": {},
     "output_type": "display_data"
    }
   ],
   "source": [
    "#### I slightly simplified the rules that govern syntactic names. Why is .123e1 not a syntactic name? \n",
    "#### Read ?make.names for the full details.\n",
    "\n",
    "\n",
    "#### my answer\n",
    "#### it begins with \"\".\" . let's try.\n",
    "make.names(.123e1)"
   ]
  },
  {
   "cell_type": "markdown",
   "id": "9390e925",
   "metadata": {},
   "source": [
    "2.3.6 Exercises\n",
    "Why is tracemem(1:10) not useful?\n",
    "\n",
    "Explain why tracemem() shows two copies when you run this code. Hint: carefully look at the difference between this code and the code shown earlier in the section.\n",
    "\n",
    "x <- c(1L, 2L, 3L)\n",
    "tracemem(x)\n",
    "\n",
    "x[[3]] <- 4\n",
    "Sketch out the relationship between the following objects:\n",
    "\n",
    "a <- 1:10\n",
    "b <- list(a, a)\n",
    "c <- list(b, a, 1:10)\n",
    "What happens when you run this code?\n",
    "\n",
    "x <- list(1:10)\n",
    "x[[2]] <- x\n",
    "Draw a picture.\n",
    "\n"
   ]
  },
  {
   "cell_type": "markdown",
   "id": "ebb04e6a",
   "metadata": {},
   "source": [
    "2.4.1 Exercises\n",
    "In the following example, why are object.size(y) and obj_size(y) so radically different? Consult the documentation of object.size().\n",
    "\n",
    "y <- rep(list(runif(1e4)), 100)\n",
    "\n",
    "object.size(y)\n",
    "#> 8005648 bytes\n",
    "obj_size(y)\n",
    "#> 80,896 B\n",
    "Take the following list. Why is its size somewhat misleading?\n",
    "\n",
    "funs <- list(mean, sd, var)\n",
    "obj_size(funs)\n",
    "#> 17,608 B\n",
    "Predict the output of the following code:\n",
    "\n",
    "a <- runif(1e6)\n",
    "obj_size(a)\n",
    "\n",
    "b <- list(a, a)\n",
    "obj_size(b)\n",
    "obj_size(a, b)\n",
    "\n",
    "b[[1]][[1]] <- 10\n",
    "obj_size(b)\n",
    "obj_size(a, b)\n",
    "\n",
    "b[[2]][[1]] <- 10\n",
    "obj_size(b)\n",
    "obj_size(a, b)"
   ]
  },
  {
   "cell_type": "markdown",
   "id": "71dc003e",
   "metadata": {},
   "source": [
    "2.5.3 Exercises\n",
    "Explain why the following code doesn’t create a circular list.\n",
    "\n",
    "x <- list()\n",
    "x[[1]] <- x\n",
    "Wrap the two methods for subtracting medians into two functions, then use the ‘bench’ package17 to carefully compare their speeds. How does performance change as the number of columns increase?\n",
    "\n",
    "What happens if you attempt to use tracemem() on an environment?"
   ]
  }
 ],
 "metadata": {
  "kernelspec": {
   "display_name": "R",
   "language": "R",
   "name": "ir"
  },
  "language_info": {
   "codemirror_mode": "r",
   "file_extension": ".r",
   "mimetype": "text/x-r-source",
   "name": "R",
   "pygments_lexer": "r",
   "version": "3.6.1"
  }
 },
 "nbformat": 4,
 "nbformat_minor": 5
}
